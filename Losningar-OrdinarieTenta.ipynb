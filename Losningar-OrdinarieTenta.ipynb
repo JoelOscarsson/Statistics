{
 "cells": [
  {
   "cell_type": "markdown",
   "id": "773c1153-e930-4c6c-9c18-8687d1ba7c65",
   "metadata": {},
   "source": [
    "# Lösningar till Ordinarie Tentamen - Statistika Metoder AI 22 - 2023-02-10"
   ]
  },
  {
   "cell_type": "code",
   "execution_count": 1,
   "id": "5c27f423-9899-4a86-8d69-05bd7ac91ef2",
   "metadata": {},
   "outputs": [],
   "source": [
    "import numpy as np\n",
    "import scipy.stats as scs\n",
    "import pandas as pd\n",
    "from math import factorial, e\n",
    "\n",
    "from statsmodels.formula.api import ols\n",
    "from statsmodels.stats import proportion"
   ]
  },
  {
   "cell_type": "markdown",
   "id": "db3b122c-f9fe-4c7d-8118-741534a86e88",
   "metadata": {},
   "source": [
    "### Uppgift 1"
   ]
  },
  {
   "cell_type": "markdown",
   "id": "66c7e763-9c9d-4c1d-9219-bc8daaf2e49d",
   "metadata": {},
   "source": [
    "Låt de två händelserna A och B representeras grafiskt på följande sätt:\n",
    "\n",
    "<div>\n",
    "<img src=\"Fotbollsplan.png\" width=\"200\"/>\n",
    "</div>\n",
    " \n",
    "Händelsen A är hela cirkeln i mitten av figuren. Händelsen B är den vänstra halvan av figuren. Skugga de delar av figuren som motsvarar:<br><br>\n",
    "a. $A^c$ (1p)<br>\n",
    "b. $A\\cup B$ (1p)<br>\n",
    "c. $A\\cap B^c$ (1p)"
   ]
  },
  {
   "cell_type": "markdown",
   "id": "85f0faf2-6548-47c5-8207-cdafd2bd889a",
   "metadata": {},
   "source": [
    "#### Lösning 1"
   ]
  },
  {
   "cell_type": "markdown",
   "id": "8f0f8776-e9e6-4d18-95aa-0383c77a9f9b",
   "metadata": {},
   "source": [
    "<div>\n",
    "<img src=\"Lösning uppgift 1.png\" width=\"500\"/>\n",
    "</div>"
   ]
  },
  {
   "cell_type": "markdown",
   "id": "4177012f-a272-41ef-87d1-4ce2a4635f7b",
   "metadata": {},
   "source": [
    "### Uppgift 2"
   ]
  },
  {
   "cell_type": "markdown",
   "id": "65b0726c-f6cf-4b1d-8d5f-514b1e5e8c56",
   "metadata": {},
   "source": [
    "Låt $X$ vara ett stickprov med värden ${6, 3, 9, 12, 5, 7, 9}$. Beräkna följande deskriptiva \n",
    "mått:<br><br>\n",
    "a. Stickprovsmedelvärde (2p)<br>\n",
    "b. Stickprovsstandardavvikelse (2p)<br>\n",
    "c. Median (1p)<br>\n",
    "d. Typvärde (1p)"
   ]
  },
  {
   "cell_type": "code",
   "execution_count": 2,
   "id": "7464c59b-8b23-4616-ba97-17d60c1e46b1",
   "metadata": {},
   "outputs": [],
   "source": [
    "X = np.array([6,3,9,12,5,7,9])"
   ]
  },
  {
   "cell_type": "markdown",
   "id": "1b345a92-345b-4c8e-b346-5695c056a3d9",
   "metadata": {},
   "source": [
    "#### Lösning 2a"
   ]
  },
  {
   "cell_type": "markdown",
   "id": "af525af6-26ef-40a2-a40f-9046590199fc",
   "metadata": {},
   "source": [
    "### $\\bar{x} = \\dfrac{1}{n}\\displaystyle\\sum_{i=1}^{n}x_i = \\dfrac{6+3+9+12+5+7+9}{7} = 7.29$"
   ]
  },
  {
   "cell_type": "code",
   "execution_count": 3,
   "id": "6f52f685-6aad-4ab5-80e2-a5d937aa9be7",
   "metadata": {},
   "outputs": [
    {
     "data": {
      "text/plain": [
       "7.285714285714286"
      ]
     },
     "execution_count": 3,
     "metadata": {},
     "output_type": "execute_result"
    }
   ],
   "source": [
    "np.mean(X)"
   ]
  },
  {
   "cell_type": "markdown",
   "id": "2956f43e-e72a-437c-83af-2f3107708c12",
   "metadata": {},
   "source": [
    "#### Lösning 2b"
   ]
  },
  {
   "cell_type": "markdown",
   "id": "4a5f2202-3350-4b70-b4a3-8a77aa112288",
   "metadata": {},
   "source": [
    "### $s^2=\\frac{1}{n-1}\\displaystyle\\sum_{i=1}^{n}\\left(x_i-{\\bar x}\\right)^2=\\frac{1}{n-1}\\left(\\displaystyle\\sum_{i=1}^{n}x_i^2-n\\left({\\bar x}\\right)^2\\right) = \\dfrac{6^2+3^2+9^2+12^2+5^2+7^2+9^2-7*7.29^2}{6}=8.9$\n",
    "### $s = \\sqrt{s^2} = \\sqrt{8.9}=2.98$"
   ]
  },
  {
   "cell_type": "code",
   "execution_count": 4,
   "id": "4d2cab46-a7f1-43a4-a552-1fe0e0c929b3",
   "metadata": {},
   "outputs": [
    {
     "name": "stdout",
     "output_type": "stream",
     "text": [
      "Variance: var = 8.90\n",
      "Standard deviation: std = 2.98\n"
     ]
    }
   ],
   "source": [
    "var, std = np.var(X, ddof=1), np.std(X, ddof=1)\n",
    "print(f'Variance: {var = :.2f}')\n",
    "print(f'Standard deviation: {std = :.2f}')"
   ]
  },
  {
   "cell_type": "markdown",
   "id": "f159089e-d4b3-4b2a-a8ea-5fa6b625104a",
   "metadata": {},
   "source": [
    "#### Lösning 2c"
   ]
  },
  {
   "cell_type": "markdown",
   "id": "2d8e63fd-6b97-47af-89f3-af2a8ae8c660",
   "metadata": {},
   "source": [
    "Sortera $X$ i storleksordning: ${3, 5, 6, 7, 9, 9, 12}$. Medianen ges av det mittersta värdet (som delar datamängden i två lika stora delar).<br><br>\n",
    "Median: 7"
   ]
  },
  {
   "cell_type": "code",
   "execution_count": 20,
   "id": "b62fafae-3ed3-4e4b-86b1-6636158ee1b0",
   "metadata": {},
   "outputs": [
    {
     "name": "stdout",
     "output_type": "stream",
     "text": [
      "Median: 7.0\n"
     ]
    }
   ],
   "source": [
    "median = np.median(X)\n",
    "print(f'Median: {median}')"
   ]
  },
  {
   "cell_type": "markdown",
   "id": "548bc545-ef00-4367-9cf1-2697ad9705e5",
   "metadata": {},
   "source": [
    "#### Lösning 2d"
   ]
  },
  {
   "cell_type": "markdown",
   "id": "eddcc205-3b3a-4455-b947-b45ad2ee9cce",
   "metadata": {},
   "source": [
    "Typvärdet är det värde som förekommer flest gånger i en datamängd. Det enda värdet som förekommer mer än 1 gång är 9, alltså är typvärdet 9.<br><br>\n",
    "Typvärde: 9"
   ]
  },
  {
   "cell_type": "code",
   "execution_count": 5,
   "id": "84aa1869-9468-42fd-9177-222150d919f2",
   "metadata": {},
   "outputs": [
    {
     "name": "stdout",
     "output_type": "stream",
     "text": [
      "Typvärde: 9\n"
     ]
    }
   ],
   "source": [
    "mode = scs.mode(X, keepdims=True)[0][0]\n",
    "print(f'Typvärde: {mode}')"
   ]
  },
  {
   "cell_type": "markdown",
   "id": "623b8d25-bba4-4f3a-9ea6-36c9eb9e0de3",
   "metadata": {},
   "source": [
    "### Uppgift 3"
   ]
  },
  {
   "cell_type": "markdown",
   "id": "0c6b0808-8765-476c-bc25-0c3b3198b257",
   "metadata": {},
   "source": [
    "Använd funktioner ur Pandas, NumPy eller SciPy för att beräkna följande mått. Svara \n",
    "med en kod-rad (inga explicita loopar, utan endast inbyggda funktioner). OBS! Inga \n",
    "uträknade svar krävs, utan enbart kod.<br><br>\n",
    "a. Medelvärdet av en kolumn A i en dataframe df. (1p)<br>\n",
    "b. Stickprovsstandardavvikelsen av en kolumn A i en dataframe df . (1p)<br>\n",
    "c. Värdet på 𝑧 som tillfredsställer uttrycket 𝑃(𝑍 ≤ 𝑧) = 0.025. Utgå från \n",
    "standardnormalfördelningen. (2p)<br>\n",
    "d. Låt X vara en normalfördelad slumpvariabel, med ett medelvärde på 12, och en \n",
    "standardavvikelse på 2. Uttryck sannolikheten att X antar värden mindre än 10, \n",
    "samt skriv en kodrad i SciPy för att beräkna sannolikheten. Antag att du redan \n",
    "importerat alla de fördelningar vi talat om i kursen. Inget uträknat svar krävs\n",
    "(2p)<br>\n",
    "e. Du arbetar med att sälja plastlådor, och vet att det är 50% sannolikhet att du\n",
    "når försäljningsmålet och säljer fler än 12 lådor per dag. Nu vill du beräkna \n",
    "sannolikheten att du uppnår den försäljningen 4 dagar på en vecka. Låt X vara \n",
    "en slumpvariabel som räknar antalet dagar i veckan där du uppnår\n",
    "försäljningsmålet (Räkna på 7 dagar i en vecka). Skriv ett utttryck för \n",
    "ovanstående sannolikhet, samt skriv en kodrad för att beräkna den med hjälp \n",
    "av SciPy. Antag att du redan importerat alla de fördelningar vi talat om i \n",
    "kursen. Inget uträknat svar krävs. (3p)"
   ]
  },
  {
   "cell_type": "markdown",
   "id": "f98ea84d-1618-4648-81b9-4945a5f0b8e6",
   "metadata": {},
   "source": [
    "#### Lösning 3a"
   ]
  },
  {
   "cell_type": "markdown",
   "id": "f56b1245-ff19-4548-b9cf-27bc1487ae63",
   "metadata": {},
   "source": [
    "Pandas: <code>X['A'].mean()</code><br>\n",
    "NumPy: <code>np.mean(X['A'])</code>"
   ]
  },
  {
   "cell_type": "markdown",
   "id": "35c842eb-40c6-4f6b-875e-1b4863692141",
   "metadata": {},
   "source": [
    "#### Lösning 3b"
   ]
  },
  {
   "cell_type": "markdown",
   "id": "4cf19305-1750-4ee9-b3d0-d5b834771bdf",
   "metadata": {},
   "source": [
    "Pandas: <code>X['A'].std()</code><br>\n",
    "NumPy: <code>np.std(X['A'], ddof=1)</code>"
   ]
  },
  {
   "cell_type": "markdown",
   "id": "e180d3ec-1862-4713-b4f6-dbdc20091526",
   "metadata": {},
   "source": [
    "#### Lösning 3c"
   ]
  },
  {
   "cell_type": "markdown",
   "id": "4fa5a72b-b169-4c98-99d1-02bf15259cfc",
   "metadata": {},
   "source": [
    "Anropa Point percentile function i SciPy: <code>scs.norm.ppf(0.025)</code>"
   ]
  },
  {
   "cell_type": "code",
   "execution_count": 6,
   "id": "b7ae155f-ba2c-4a7f-bd4c-84c2777e35c2",
   "metadata": {},
   "outputs": [
    {
     "data": {
      "text/plain": [
       "-1.9599639845400545"
      ]
     },
     "execution_count": 6,
     "metadata": {},
     "output_type": "execute_result"
    }
   ],
   "source": [
    "scs.norm.ppf(0.025)"
   ]
  },
  {
   "cell_type": "markdown",
   "id": "ad9899d5-01d9-45b7-970d-c1086ed09952",
   "metadata": {},
   "source": [
    "#### Lösning 3d"
   ]
  },
  {
   "cell_type": "markdown",
   "id": "2f8f1ccb-8615-435b-a416-33ad4e0bf5ce",
   "metadata": {},
   "source": [
    "Sannolikheten att $X$ tar värden mindre än 10: $P(X<10)$<br>\n",
    "Beräknas i SciPy: <code>scs.norm.pdf(x=10, loc=12, scale=2)</code>"
   ]
  },
  {
   "cell_type": "code",
   "execution_count": 7,
   "id": "e13ee432-9fb7-4768-a34f-e933c025b531",
   "metadata": {},
   "outputs": [
    {
     "data": {
      "text/plain": [
       "0.12098536225957168"
      ]
     },
     "execution_count": 7,
     "metadata": {},
     "output_type": "execute_result"
    }
   ],
   "source": [
    "scs.norm.pdf(x=10, loc=12, scale=2)"
   ]
  },
  {
   "cell_type": "markdown",
   "id": "5fe91ac1-49d0-4d0a-ad0d-d67b50bcb653",
   "metadata": {},
   "source": [
    "#### Lösning 3e"
   ]
  },
  {
   "cell_type": "markdown",
   "id": "9ce1734d-7e36-4897-b24c-6e241721299b",
   "metadata": {},
   "source": [
    "Situationen kan beskrivas som en serie repeterade Bernoulliexperiment med $p=0.5$. Antalet lyckade experiment på 7 dragningar (en vecka), kommer då vara en slumpvariabel $X$ med fördelningen $X~Bin(n=7, p=0.5)$.<br>\n",
    "Sannolikheten att få exakt 4 lyckade experiment skrivs som: $P(X=4)$.<br>\n",
    "Sannolikheten kan beräknas i SciPy med: <code>scs.binom.pmf(k=4, n=7, p=0.5)</code>"
   ]
  },
  {
   "cell_type": "code",
   "execution_count": 8,
   "id": "db7f4e84-6386-43f1-aab6-6d53b3601e60",
   "metadata": {},
   "outputs": [
    {
     "data": {
      "text/plain": [
       "0.27343749999999983"
      ]
     },
     "execution_count": 8,
     "metadata": {},
     "output_type": "execute_result"
    }
   ],
   "source": [
    "scs.binom.pmf(k=4, n=7, p=0.5)"
   ]
  },
  {
   "cell_type": "markdown",
   "id": "f6679ba0-3c3b-4fe8-8b7c-c28108037867",
   "metadata": {},
   "source": [
    "### Uppgift 4"
   ]
  },
  {
   "cell_type": "markdown",
   "id": "8c080511-5c22-4a82-b146-372ba4800660",
   "metadata": {},
   "source": [
    "Låt X vara en diskret slumpvariabel med fördelningen: $X\\sim Bin(8, 0.2)$. Beräkna \n",
    "följande sannolikheter: <br>\n",
    "a. $P(X=4)$ (2p)<br>\n",
    "b. $P(X\\geq 2)$ (2p)<br><br>\n",
    "Låt X vara en kontinuerlig slumpvariabel med fördelningen: $X\\sim Exp(2)$. Beräkna \n",
    "följande sannolikheter:<br>\n",
    "c. $P(X>2.6)$ (2p)<br>\n",
    "d. $P(0.4 < X < 0.9)$ (2p)"
   ]
  },
  {
   "cell_type": "markdown",
   "id": "f8f8c601-b942-40be-bef3-9b22ed473d39",
   "metadata": {},
   "source": [
    "#### Lösning 4a"
   ]
  },
  {
   "cell_type": "markdown",
   "id": "52c4c56f-e784-46a9-b487-2defb6023a4f",
   "metadata": {},
   "source": [
    "PMF för binomialfördelningen: $P(X=x)=\\begin{pmatrix}n\\cr x\\end{pmatrix}p^xq^{n-x}$.<br>\n",
    "$P(X=4) = \\begin{pmatrix}8\\cr 4\\end{pmatrix}0.2^40.8^{8-4}=\\frac{8!}{4!4!}*0.0016*0.4096=0.046$"
   ]
  },
  {
   "cell_type": "code",
   "execution_count": 9,
   "id": "2c96e9dd-8291-4709-93d8-e06015ecc889",
   "metadata": {},
   "outputs": [
    {
     "data": {
      "text/plain": [
       "0.04587520000000001"
      ]
     },
     "execution_count": 9,
     "metadata": {},
     "output_type": "execute_result"
    }
   ],
   "source": [
    "factorial(8) / factorial(4)**2 * 0.2**4 * 0.8**4"
   ]
  },
  {
   "cell_type": "code",
   "execution_count": 10,
   "id": "5850d34a-f706-4e23-9f59-e70de342201e",
   "metadata": {},
   "outputs": [
    {
     "data": {
      "text/plain": [
       "0.04587520000000002"
      ]
     },
     "execution_count": 10,
     "metadata": {},
     "output_type": "execute_result"
    }
   ],
   "source": [
    "scs.binom.pmf(k=4, n=8, p=0.2)"
   ]
  },
  {
   "cell_type": "markdown",
   "id": "13a66364-f93f-427d-99f4-1914a6c5f081",
   "metadata": {},
   "source": [
    "#### Lösning 4b"
   ]
  },
  {
   "cell_type": "markdown",
   "id": "4bd11621-98de-4d78-a1b3-a200970da5c5",
   "metadata": {},
   "source": [
    "$P(X\\geq 2)=1-P(X<2)=1-(P(X=0)+P(X=1))$"
   ]
  },
  {
   "cell_type": "markdown",
   "id": "97f9d62d-62dc-4b86-a091-357e00bbe212",
   "metadata": {},
   "source": [
    "$P(X=0) = \\begin{pmatrix}8\\cr 0\\end{pmatrix}0.2^00.8^8=\\frac{8!}{8!0!}*1*0.167=0.167$<br>\n",
    "$P(X=1) = \\begin{pmatrix}8\\cr 1\\end{pmatrix}0.2^10.8^7=\\frac{8!}{7!1!}*0.2*0.21=0.336$"
   ]
  },
  {
   "cell_type": "code",
   "execution_count": 11,
   "id": "1b53ce31-efae-42e8-8d56-271b803e69d6",
   "metadata": {},
   "outputs": [
    {
     "data": {
      "text/plain": [
       "0.3355443200000001"
      ]
     },
     "execution_count": 11,
     "metadata": {},
     "output_type": "execute_result"
    }
   ],
   "source": [
    "factorial(8) / (factorial(7)*factorial(1)) * 0.2**1 * 0.8**7"
   ]
  },
  {
   "cell_type": "markdown",
   "id": "c659b784-4bba-4d7e-b2f0-97f48d6c084d",
   "metadata": {},
   "source": [
    "$1-(P(X=0)+P(X=1))=1-0.167-0.336=0.497$"
   ]
  },
  {
   "cell_type": "code",
   "execution_count": 12,
   "id": "d2072ee8-384b-4943-89cb-94bc1be4591b",
   "metadata": {},
   "outputs": [
    {
     "data": {
      "text/plain": [
       "0.4966835200000004"
      ]
     },
     "execution_count": 12,
     "metadata": {},
     "output_type": "execute_result"
    }
   ],
   "source": [
    "1-scs.binom.cdf(k=1, n=8, p=0.2)"
   ]
  },
  {
   "cell_type": "markdown",
   "id": "9b47a8a0-6c03-4bcb-9c41-edace5d158b2",
   "metadata": {},
   "source": [
    "#### Lösning 4c"
   ]
  },
  {
   "cell_type": "markdown",
   "id": "386f58cb-7422-4a43-85f3-f42ae66f6cf1",
   "metadata": {},
   "source": [
    "$P(X>2.6)=1-P(X<2.6)$<br>\n",
    "CDF för exponentialfördelning: $P(X<x)=1-e^{-\\frac{x}{\\mu}}$<br><br>\n",
    "$P(X<2.6)=1-e^{-\\frac{2.6}{2}}=0.727$<br>\n",
    "$P(X>2.6)=1-P(X<2.6)=1-0.727=0.273$"
   ]
  },
  {
   "cell_type": "code",
   "execution_count": 13,
   "id": "7b9cafea-0297-4c74-9625-6dc6859b812a",
   "metadata": {},
   "outputs": [
    {
     "data": {
      "text/plain": [
       "0.7274682069659875"
      ]
     },
     "execution_count": 13,
     "metadata": {},
     "output_type": "execute_result"
    }
   ],
   "source": [
    "1-e**(-2.6/2)"
   ]
  },
  {
   "cell_type": "code",
   "execution_count": 14,
   "id": "2b65a122-c394-4b4c-8276-6b887e9e28de",
   "metadata": {},
   "outputs": [
    {
     "data": {
      "text/plain": [
       "0.7274682069659875"
      ]
     },
     "execution_count": 14,
     "metadata": {},
     "output_type": "execute_result"
    }
   ],
   "source": [
    "scs.expon.cdf(x=2.6, scale=2)"
   ]
  },
  {
   "cell_type": "markdown",
   "id": "e07b4112-afa6-4249-a7cf-23e903610892",
   "metadata": {},
   "source": [
    "#### Lösning 4d"
   ]
  },
  {
   "cell_type": "markdown",
   "id": "da4c54be-6406-419f-88d7-b5d3c85397b2",
   "metadata": {},
   "source": [
    "$P(0.4<X<0.9)=P(X<0.9)-P(X<0.4)$<br>\n",
    "$P(X<0.4)=1-e^{-\\frac{0.4}{2}}=0.181$<br>\n",
    "$P(X<0.9)=1-e^{-\\frac{0.9}{2}}=0.362$<br>"
   ]
  },
  {
   "cell_type": "code",
   "execution_count": 15,
   "id": "9358c3c0-bf7a-42a1-ba45-335734ce2530",
   "metadata": {},
   "outputs": [
    {
     "data": {
      "text/plain": [
       "(0.18126924692201818, 0.36237184837822667)"
      ]
     },
     "execution_count": 15,
     "metadata": {},
     "output_type": "execute_result"
    }
   ],
   "source": [
    "1-e**(-0.4/2), 1-e**(-0.9/2)"
   ]
  },
  {
   "cell_type": "markdown",
   "id": "e7673867-cc7a-44f8-83b9-3c451726257f",
   "metadata": {},
   "source": [
    "$P(0.4<X<0.9)=P(X<0.9)-P(X<0.4)=0.362-0.181=0.181$"
   ]
  },
  {
   "cell_type": "code",
   "execution_count": 16,
   "id": "a26000c7-c89e-4eca-aa39-9503393d986a",
   "metadata": {},
   "outputs": [
    {
     "data": {
      "text/plain": [
       "0.18110260145620857"
      ]
     },
     "execution_count": 16,
     "metadata": {},
     "output_type": "execute_result"
    }
   ],
   "source": [
    "scs.expon.cdf(x=0.9, scale=2)-scs.expon.cdf(x=0.4, scale=2)"
   ]
  },
  {
   "cell_type": "markdown",
   "id": "0042f5e5-43ca-49c8-af46-690dc898885e",
   "metadata": {},
   "source": [
    "### Uppgift 5"
   ]
  },
  {
   "attachments": {},
   "cell_type": "markdown",
   "id": "42c74561-5f58-49b6-9df7-690b783834b8",
   "metadata": {},
   "source": [
    "Tre kompisar startar ett odlingsprojekt i sin gemensamma koloniträdgård. De tänker \n",
    "satsa järnet på att odla morötter. För att utmana sig själva tänker de väga \n",
    "morotsskörden och använda sig av sina statistiska kunskaper för att förbättra skörden \n",
    "inför kommande år. De har fått till en riktigt stor morotsodling, och orkar inte väga\n",
    "alla morötter enskilt, utan nöjer sig med ett stickprov på 10 morötter. Vikterna (gram) \n",
    "är: ${64, 86, 88, 77, 85, 109, 122, 124, 74, 91}$. (Stickprovsstandardavvikelsen beräknas \n",
    "till $s = 20.13$)<br><br>\n",
    "a. Utgå från stickprovet ovan och konstruera ett 90% konfidensintervall för \n",
    "medelvikten på kompisarnas morötter. Antag att morotsvikten är \n",
    "normalfördelad. (4p)<br>\n",
    "b. Till nästa år provar kompisarna ett tips de fått av några andra på koloniområdet \n",
    "att extragödsla morötterna med klippt gräs en gång under försommaren. De tar \n",
    "ett lika stort stickprov från den nya skörden\n",
    "${96, 107, 105, 121, 127, 71, 99, 113, 89, 110}$. Gör ett hypotestest som testar \n",
    "på 95% konfidens om medelvikten för morötterna har ökat med den nya \n",
    "metoden. Antag att populationsstandardavvikelsen är densamma som före \n",
    "gödslingen. (Stickprovsstandardavvikelsen för det nya stickprovet beräknas till\n",
    "$s_2 = 16.15$). (6p)\n"
   ]
  },
  {
   "cell_type": "markdown",
   "id": "ae95224e-f603-4210-8357-72c1182fe1f4",
   "metadata": {},
   "source": [
    "#### Lösning 5a"
   ]
  },
  {
   "cell_type": "markdown",
   "id": "b1b8fa6a-b153-48d1-a5e6-fcb2bb4c4319",
   "metadata": {},
   "source": [
    "Konfidensintervall för populationsmedelvärde med okänd populationsstandardavvikelse:<br>\n",
    "#### $\\mu = \\bar{x}\\pm t_{\\alpha/2, n-1}\\dfrac{s}{\\sqrt{n}}$<br>\n",
    "$\\bar{x} = \\dfrac{1}{n}\\displaystyle\\sum_{i=1}^{n}x_i = \\dfrac{64+86+88+77+85+109+122+124+74+91}{10} = 92$<br>\n",
    "$s = 20.13$<br>\n",
    "$n = 10$<br>\n",
    "$\\alpha = 0.1$<br>\n",
    "$t_{\\alpha/2, n-1} = t_{0.05, 9} =$ {kolla upp i tabell} $= 1.83$<br><br>\n",
    "\n",
    "#### $\\mu = 92\\pm 1.83*\\dfrac{20.13}{\\sqrt{10}} = 92 \\pm 11.65$<br>\n",
    "90% CI: $[80.35, 103.65]$\n"
   ]
  },
  {
   "cell_type": "code",
   "execution_count": 17,
   "id": "015b25b6-8ab1-489a-8e88-ac3067b65091",
   "metadata": {},
   "outputs": [
    {
     "data": {
      "text/plain": [
       "(80.3293409540332, 103.67065904596679)"
      ]
     },
     "execution_count": 17,
     "metadata": {},
     "output_type": "execute_result"
    }
   ],
   "source": [
    "carrot1 = np.array([64,86,88,77,85,109,122,124,74,91])\n",
    "carrot2 = np.array([96,107,105,121,127,71,99,113,89,110])\n",
    "\n",
    "scs.t.interval(0.9, loc=np.mean(carrot1), scale=np.std(carrot1, ddof=1)/np.sqrt(10), df=len(carrot1)-1)"
   ]
  },
  {
   "cell_type": "markdown",
   "id": "79f3c8a9-64de-447c-b6e3-91b061841829",
   "metadata": {},
   "source": [
    "#### Lösning 6b"
   ]
  },
  {
   "cell_type": "markdown",
   "id": "8cf335c2-356f-41df-bade-fd5307de11b0",
   "metadata": {},
   "source": [
    "Hypotestest för medelvärdesskillnad med okända populationsstandardavvikelser, men som antas lika:<br><br>\n",
    "Testfunktion:<br>\n",
    "#### $\\dfrac{\\bar{x_1}-\\bar{x_2}}{S_p\\sqrt{(\\dfrac{1}{n_1}+\\dfrac{1}{n_2})}}\\sim t_{n_1+n_2-2}$\n",
    "#### $S_p = \\sqrt{\\dfrac{(n_1-1)s_1^2+(n_2-1)s_2^2}{n_1+n_2-2}}$<br><br>\n",
    "\n",
    "$\\bar{x_1}=92$<br>\n",
    "$\\bar{x_2}=\\dfrac{96+107+105+121+127+71+99+113+89+110}{10}=103.8$<br>\n",
    "$s_1 = 20.13 \\quad s_2 = 16.15$<br>\n",
    "$n_1 = n_2 = 10$<br>\n",
    "$\\alpha = 0.05$<br>\n",
    "$S_p = \\sqrt{\\dfrac{(10-1)20.13^2+(10-1)16.15^2}{10+10-2}}=18.25$<br><br><br>\n",
    "\n",
    "\n",
    "$H_0: \\mu_2-\\mu_1 \\leq 0 \\quad H_A: \\mu_2-\\mu_1 > 0$"
   ]
  },
  {
   "cell_type": "markdown",
   "id": "214372a5-176e-496b-84c7-d515d178499c",
   "metadata": {},
   "source": [
    "$t_{test} = \\dfrac{103.8-92}{18.25\\sqrt{(\\dfrac{1}{10}+\\dfrac{1}{10})}} = 1.45$<br>\n",
    "$t_{crit} = t_{\\alpha, 10+10-2} = t_{0.05, 18} = 1.734$<br><br>\n",
    "$t_{test} < t_{crit} \\rightarrow H_0$ ej förkastad.<br><br>\n",
    "Vi kan inte, givet våra två stickprov, påvisa någon skillnad med den nya metoden."
   ]
  },
  {
   "cell_type": "code",
   "execution_count": 18,
   "id": "bd339ba5-b7bc-4794-8b22-8fc46623d20f",
   "metadata": {},
   "outputs": [
    {
     "name": "stdout",
     "output_type": "stream",
     "text": [
      "Test-statistic: statistic = 1.45\n",
      "p-value: pvalue = 0.08\n",
      "p-value > 0.05: Null hypothesis not rejected\n"
     ]
    }
   ],
   "source": [
    "statistic, pvalue = scs.ttest_ind(carrot2, carrot1, alternative='greater', equal_var=True)\n",
    "print(f'Test-statistic: {statistic = :.2f}')\n",
    "print(f'p-value: {pvalue = :.2f}')\n",
    "print(f'p-value > {0.05}: Null hypothesis not rejected')"
   ]
  },
  {
   "cell_type": "markdown",
   "id": "462dd187-9632-476d-b962-68cc2d6f03c2",
   "metadata": {},
   "source": [
    "### Uppgift 6"
   ]
  },
  {
   "cell_type": "markdown",
   "id": "740b39a1-f744-4e08-8d26-2107385fb0ad",
   "metadata": {},
   "source": [
    "En kollega har samlat in 10 datapunkter som beskriver ett förväntat linjärt samband. \n",
    "Nu är kollegan mitt uppe i att göra en regressionsanalys, men får ett annat brådskande \n",
    "ärende och lägger över ansvaret på dig istället. Gör färdigt regressionsanalysen nedan \n",
    "genom att beräkna värden på intercept och lutning, samt prediktera värdet för $x = 6$.\n",
    "(6p)<br><br>\n",
    "Antal observationer = $10$<br>\n",
    "$SS_{XY} = 448.3$<br>\n",
    "$SS_X = 83.6$<br>\n",
    "$SS_Y = 3094.1$<br>\n",
    "Stickprovsmedelvärde (Y) = $24.2$\n",
    "Stickprovsmedelvärde (X) = $7.6$"
   ]
  },
  {
   "cell_type": "markdown",
   "id": "bcee7a89-4288-4c06-9c58-5c6259b743dc",
   "metadata": {},
   "source": [
    "#### Lösning 6"
   ]
  },
  {
   "cell_type": "markdown",
   "id": "00364818-7bff-4315-87cc-542e9361a3f6",
   "metadata": {},
   "source": [
    "Linjär regression med kvadratsummor:<br>\n",
    "$y = b_1x + b_0$<br>\n",
    "$b_1 = \\dfrac{SS_{XY}}{SSX} \\quad b_0 = \\bar{y}-b_1\\bar{x}$<br><br>\n",
    "$b_1 = \\dfrac{448.3}{83.6}=5.36 \\quad b_0 = 24.2 - 5.36*7.6 = -16.54$<br><br>\n",
    "Modell: $y = 5.36x-16.54$<br>\n",
    "Prediktion: $y(6) = 5.36*6-16.54 = 15.62$"
   ]
  },
  {
   "cell_type": "markdown",
   "id": "161540aa-08b9-4156-b655-ba4158788bb7",
   "metadata": {},
   "source": [
    "### Uppgift 7"
   ]
  },
  {
   "cell_type": "markdown",
   "id": "55022799-be40-4e78-b158-2687643a62c0",
   "metadata": {},
   "source": [
    "En elev tror att andelen med blåa ögon i skolan är mindre än populationsandelen i \n",
    "Sverige (78%). Eleven undersöker alla i sin skolklass ($n=20$) och konstaterar att 14\n",
    "av de tillfrågade hade blå ögon. Nu behöver eleven hjälp att analysera sitt resultat.<br><br>\n",
    "a. Konstruera ett konfidensintervall ($\\alpha=0.05$) för proportionen blåögda i \n",
    "Sverige utifrån elevens undersökning. Stödjer konfidensintervallet elevens \n",
    "teori? Motivera ditt svar. (4p)<br><br>\n",
    "b. Ungefär hur många elever skulle behöva undersökas för att ett \n",
    "konfidensintervall likt det i (a) skulle stödja elevens teori, givet att eleven \n",
    "finner samma stickprovsproportion ($p=0.7$)? (4p)."
   ]
  },
  {
   "cell_type": "markdown",
   "id": "bf934cfe-47cf-4035-87d2-a95f3d994c8f",
   "metadata": {},
   "source": [
    "#### Lösning 7a"
   ]
  },
  {
   "cell_type": "markdown",
   "id": "b237e4b5-4ef4-45f1-9f7f-e9f0391f16c3",
   "metadata": {},
   "source": [
    "Konfidensintervall för populationsproportion:<br>\n",
    "$p = \\bar{p} \\pm z_{\\alpha/2} \\sqrt{\\dfrac{\\bar{p}(1-\\bar{p}}{n}}$<br><br>\n",
    "\n",
    "Undersök möjligheter till normalapproximation:<br>\n",
    "$np = 20*0.7 = 14 \\quad n(1-p) = 20*0.3 = 6$ Båda värdena är över 5, alltså är normalapproximationen giltig.<br><br>\n",
    "\n",
    "$\\bar{p} = 14/20 = 0.7$<br>\n",
    "$n = 20$\n",
    "$\\alpha = 0.05$\n",
    "$z_{\\alpha/2} = z_{0.025} = $ {kolla upp i tabell} $ = 1.96$<br><br>\n",
    "\n",
    "$p = 0.7 \\pm 1.96 \\sqrt{\\dfrac{0.7*0.3}{20}} = 0.7 \\pm 0.201$<br>\n",
    "95% CI: $[0.50, 0.90]$<br>\n",
    "Eftersom konfidensintervallet innehåller rikssnittet kan vi inte använda det som stöd för att säga att klassen skulle ha lägre proportion blåögda än rikssnittet."
   ]
  },
  {
   "cell_type": "code",
   "execution_count": 19,
   "id": "9b6299cf-fce5-485e-bc15-8783ce879da3",
   "metadata": {},
   "outputs": [
    {
     "name": "stdout",
     "output_type": "stream",
     "text": [
      "Confidence interval (α=0.05) for proportion of blue eyes: 0.5-0.9\n"
     ]
    }
   ],
   "source": [
    "lower, upper = proportion.proportion_confint(14, 20, alpha=0.05, method='normal')\n",
    "\n",
    "print(f'Confidence interval (\\u03B1=0.05) for proportion of blue eyes: {round(lower,2)}-{round(upper,2)}')"
   ]
  },
  {
   "cell_type": "markdown",
   "id": "85045daf-dbf2-413a-ad63-ea7ca3e1a86e",
   "metadata": {},
   "source": [
    "#### Lösning 7b"
   ]
  },
  {
   "cell_type": "markdown",
   "id": "15727c67-eb46-465a-8e7c-5f958046769d",
   "metadata": {},
   "source": [
    "För att stickprovet med säkerhet skall kunna påvisa en skillnad behöver rikssnittet hamna utanför konfidensintervallet. För att det skall inträffa behöver felmarginalen ($z_{\\alpha/2} \\sqrt{\\dfrac{\\bar{p}(1-\\bar{p}}{n}}$) bli mindre än skillnaden mellan stickprovsproportionen och rikssnittet ($0.78-0.7=0.08$).<br><br>\n",
    "D.v.s.: $z_{\\alpha/2} \\sqrt{\\dfrac{\\bar{p}(1-\\bar{p}}{n}} < 0.08$<br><br>\n",
    "Ommöblering av formeln ger:<br>\n",
    "$ n > \\dfrac{\\bar{p}(1-\\bar{p})}{(0.08/z_{\\alpha/2})^2}$<br>\n",
    "Insättning av värden $\\bar{p}=0.7$ samt $z_{\\alpha/2}=1.96$ ger: <br>\n",
    "$ n > \\dfrac{0.7(1-0.7)}{(0.08/1.96)^2} = 126.05 \\approx $ {avrundning uppåt} $ \\approx 127$<br><br>\n",
    "Det krävs alltså minst 127 studenter för att med samma stickprovsproportion kunna säga att rikssnittet ligger utanför det 95%-iga konfidensintervallet."
   ]
  }
 ],
 "metadata": {
  "kernelspec": {
   "display_name": "Python 3 (ipykernel)",
   "language": "python",
   "name": "python3"
  },
  "language_info": {
   "codemirror_mode": {
    "name": "ipython",
    "version": 3
   },
   "file_extension": ".py",
   "mimetype": "text/x-python",
   "name": "python",
   "nbconvert_exporter": "python",
   "pygments_lexer": "ipython3",
   "version": "3.11.0"
  }
 },
 "nbformat": 4,
 "nbformat_minor": 5
}
