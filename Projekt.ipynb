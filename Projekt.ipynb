{
 "cells": [
  {
   "attachments": {},
   "cell_type": "markdown",
   "metadata": {},
   "source": [
    "# Project for statstics where the assignment is to explore a dataset and use some of the tools we been working on. This is very basic"
   ]
  },
  {
   "cell_type": "code",
   "execution_count": 1,
   "metadata": {},
   "outputs": [
    {
     "data": {
      "text/html": [
       "<div>\n",
       "<style scoped>\n",
       "    .dataframe tbody tr th:only-of-type {\n",
       "        vertical-align: middle;\n",
       "    }\n",
       "\n",
       "    .dataframe tbody tr th {\n",
       "        vertical-align: top;\n",
       "    }\n",
       "\n",
       "    .dataframe thead th {\n",
       "        text-align: right;\n",
       "    }\n",
       "</style>\n",
       "<table border=\"1\" class=\"dataframe\">\n",
       "  <thead>\n",
       "    <tr style=\"text-align: right;\">\n",
       "      <th></th>\n",
       "      <th>sepal_length</th>\n",
       "      <th>sepal_width</th>\n",
       "      <th>petal_length</th>\n",
       "      <th>petal_width</th>\n",
       "      <th>class</th>\n",
       "    </tr>\n",
       "  </thead>\n",
       "  <tbody>\n",
       "    <tr>\n",
       "      <th>0</th>\n",
       "      <td>5.1</td>\n",
       "      <td>3.5</td>\n",
       "      <td>1.4</td>\n",
       "      <td>0.2</td>\n",
       "      <td>Iris-setosa</td>\n",
       "    </tr>\n",
       "  </tbody>\n",
       "</table>\n",
       "</div>"
      ],
      "text/plain": [
       "   sepal_length   sepal_width   petal_length   petal_width        class\n",
       "0           5.1           3.5            1.4           0.2  Iris-setosa"
      ]
     },
     "execution_count": 1,
     "metadata": {},
     "output_type": "execute_result"
    }
   ],
   "source": [
    "import matplotlib.pyplot as plt\n",
    "import numpy as np\n",
    "import seaborn as sns\n",
    "import scipy.stats as scs \n",
    "import pandas as pd\n",
    "import math\n",
    "\n",
    "\n",
    "iris_file = '/Users/joeloscarsson/Documents/www/Statistics/Data/iris.csv'\n",
    "\n",
    "df = pd.read_csv(iris_file)\n",
    "df = df.dropna() #Drop all non NaN\n",
    "\n",
    "df.head(1)"
   ]
  },
  {
   "cell_type": "code",
   "execution_count": 2,
   "metadata": {},
   "outputs": [
    {
     "data": {
      "text/plain": [
       "(Foderbladslängd    0.828066\n",
       " Foderbladsbredd    0.433594\n",
       " Kronbladsbredd     1.764420\n",
       " Kronbladslängd     0.763161\n",
       " dtype: float64,)"
      ]
     },
     "execution_count": 2,
     "metadata": {},
     "output_type": "execute_result"
    }
   ],
   "source": [
    "# Ändrar namn på kolumnerna så de är mer lättförstådda\n",
    "df.columns = df_list_names = [\n",
    "    \"Foderbladslängd\",\n",
    "    \"Foderbladsbredd\",\n",
    "    \"Kronbladsbredd\",\n",
    "    \"Kronbladslängd\",\n",
    "    \"Blomtyp\",\n",
    "]\n",
    "\n",
    "df.head()\n",
    "\n",
    "# Undersöker standardavvikelsen för samtliga bredder/längder av samtliga blad\n",
    "# Undersöker medianen för samtliga bredder/längder av samtliga blad\n",
    "\n",
    "df.std(numeric_only=True),\n"
   ]
  },
  {
   "cell_type": "code",
   "execution_count": 3,
   "metadata": {},
   "outputs": [
    {
     "data": {
      "text/html": [
       "<div>\n",
       "<style scoped>\n",
       "    .dataframe tbody tr th:only-of-type {\n",
       "        vertical-align: middle;\n",
       "    }\n",
       "\n",
       "    .dataframe tbody tr th {\n",
       "        vertical-align: top;\n",
       "    }\n",
       "\n",
       "    .dataframe thead th {\n",
       "        text-align: right;\n",
       "    }\n",
       "</style>\n",
       "<table border=\"1\" class=\"dataframe\">\n",
       "  <thead>\n",
       "    <tr style=\"text-align: right;\">\n",
       "      <th></th>\n",
       "      <th>Foderbladslängd</th>\n",
       "      <th>Foderbladsbredd</th>\n",
       "      <th>Kronbladsbredd</th>\n",
       "      <th>Kronbladslängd</th>\n",
       "    </tr>\n",
       "  </thead>\n",
       "  <tbody>\n",
       "    <tr>\n",
       "      <th>count</th>\n",
       "      <td>150.000000</td>\n",
       "      <td>150.000000</td>\n",
       "      <td>150.000000</td>\n",
       "      <td>150.000000</td>\n",
       "    </tr>\n",
       "    <tr>\n",
       "      <th>mean</th>\n",
       "      <td>5.843333</td>\n",
       "      <td>3.054000</td>\n",
       "      <td>3.758667</td>\n",
       "      <td>1.198667</td>\n",
       "    </tr>\n",
       "    <tr>\n",
       "      <th>std</th>\n",
       "      <td>0.828066</td>\n",
       "      <td>0.433594</td>\n",
       "      <td>1.764420</td>\n",
       "      <td>0.763161</td>\n",
       "    </tr>\n",
       "    <tr>\n",
       "      <th>min</th>\n",
       "      <td>4.300000</td>\n",
       "      <td>2.000000</td>\n",
       "      <td>1.000000</td>\n",
       "      <td>0.100000</td>\n",
       "    </tr>\n",
       "    <tr>\n",
       "      <th>25%</th>\n",
       "      <td>5.100000</td>\n",
       "      <td>2.800000</td>\n",
       "      <td>1.600000</td>\n",
       "      <td>0.300000</td>\n",
       "    </tr>\n",
       "    <tr>\n",
       "      <th>50%</th>\n",
       "      <td>5.800000</td>\n",
       "      <td>3.000000</td>\n",
       "      <td>4.350000</td>\n",
       "      <td>1.300000</td>\n",
       "    </tr>\n",
       "    <tr>\n",
       "      <th>75%</th>\n",
       "      <td>6.400000</td>\n",
       "      <td>3.300000</td>\n",
       "      <td>5.100000</td>\n",
       "      <td>1.800000</td>\n",
       "    </tr>\n",
       "    <tr>\n",
       "      <th>max</th>\n",
       "      <td>7.900000</td>\n",
       "      <td>4.400000</td>\n",
       "      <td>6.900000</td>\n",
       "      <td>2.500000</td>\n",
       "    </tr>\n",
       "  </tbody>\n",
       "</table>\n",
       "</div>"
      ],
      "text/plain": [
       "       Foderbladslängd  Foderbladsbredd  Kronbladsbredd  Kronbladslängd\n",
       "count       150.000000       150.000000      150.000000      150.000000\n",
       "mean          5.843333         3.054000        3.758667        1.198667\n",
       "std           0.828066         0.433594        1.764420        0.763161\n",
       "min           4.300000         2.000000        1.000000        0.100000\n",
       "25%           5.100000         2.800000        1.600000        0.300000\n",
       "50%           5.800000         3.000000        4.350000        1.300000\n",
       "75%           6.400000         3.300000        5.100000        1.800000\n",
       "max           7.900000         4.400000        6.900000        2.500000"
      ]
     },
     "execution_count": 3,
     "metadata": {},
     "output_type": "execute_result"
    }
   ],
   "source": [
    "df.describe()"
   ]
  },
  {
   "cell_type": "code",
   "execution_count": 4,
   "metadata": {},
   "outputs": [
    {
     "data": {
      "text/plain": [
       "array(['Iris-setosa', 'Iris-versicolor', 'Iris-virginica'], dtype=object)"
      ]
     },
     "execution_count": 4,
     "metadata": {},
     "output_type": "execute_result"
    }
   ],
   "source": [
    "df[\"Blomtyp\"].unique()"
   ]
  },
  {
   "attachments": {},
   "cell_type": "markdown",
   "metadata": {},
   "source": [
    "# Frågeställningen jag vill spana på under detta datasetet är.\n",
    "\n",
    "Skiljer sig Foderbladsbredd mellan de olika blomtyperna avsevärt?\n",
    "Det jag undersöker är då om petal width (Foderbladsbredd)för iris-setosa skiljer sig från bredden på Foderblad för samtliga olika klasser blommor. "
   ]
  },
  {
   "cell_type": "code",
   "execution_count": 10,
   "metadata": {},
   "outputs": [
    {
     "name": "stdout",
     "output_type": "stream",
     "text": [
      "Det totala medelvärdet av foderbladbredd för populationen är 3.0540000000000003\n"
     ]
    }
   ],
   "source": [
    "# Här räknar jag ut medelvärdet för alla foderbladsbredder för alla olika blomtyper\n",
    "\n",
    "# medelvärdet skattar jag på alla\n",
    "# sedan stickprov på den specifika sub kategorin\n",
    "totala_foderbladsbreddsmedelvärde = df[\"Foderbladsbredd\"].mean()\n",
    "print(f\"Det totala medelvärdet av foderbladbredd för populationen är {totala_foderbladsbreddsmedelvärde}\")"
   ]
  },
  {
   "attachments": {},
   "cell_type": "markdown",
   "metadata": {},
   "source": [
    "# Vi skattar populationsmedelvärdet utifrån medelvärdet på samtliga blommor:\n",
    "\n",
    "### $\\mu_0$ = 3.0540000000000003 cm).\n",
    "Med en signifikansnivå på \n",
    "### $\\alpha = 0.05$. "
   ]
  },
  {
   "cell_type": "code",
   "execution_count": 18,
   "metadata": {},
   "outputs": [],
   "source": [
    "# Eftersom standardavvikelsen är okänd så kommer vi använda oss utav t-fördelningen\n",
    "\n",
    "from scipy.stats import t # Importera t-fördelningen"
   ]
  },
  {
   "attachments": {},
   "cell_type": "markdown",
   "metadata": {},
   "source": [
    "# Vi börjar med att bestämma alternativhypotesen som:<br>\n",
    "   $H_A: \\mu \\neq 3.0540000000000003\\,cm$<br>\n",
    "# Och sedan nollhypotesen som dess komplement:<br>\n",
    "   $H_0: \\mu = 3.0540000000000003\\,cm$"
   ]
  },
  {
   "attachments": {},
   "cell_type": "markdown",
   "metadata": {},
   "source": [
    "Efter det, beräknar vi teststatistikan för vår nollhypotes, d.v.s:\n",
    "\n",
    "\n",
    "# $t = \\frac{\\overline{X} - \\mu_0}{s \\,/\\sqrt{n}}$"
   ]
  },
  {
   "cell_type": "code",
   "execution_count": 25,
   "metadata": {},
   "outputs": [
    {
     "name": "stdout",
     "output_type": "stream",
     "text": [
      "Test statistic: 6.755128273505206\n",
      "p-value: 1.589232700993648e-08\n"
     ]
    }
   ],
   "source": [
    "# Stickprov för en viss specifik sort \"Iris-Setosa\"\n",
    "#gentoo = df[\"Blomtyp\"] == \"Iris-setosa\"][\"Foderbladsbredd\"]\n",
    "\n",
    "setosa = df[df[\"Blomtyp\"] == \"Iris-setosa\"]\n",
    "stickprov = setosa[\"Foderbladsbredd\"]\n",
    "\n",
    "xbar = stickprov.mean() # Beräkna stickprovsmedelvärde\n",
    "mu = 3.0540000000000003 # Sätt mu till värde för nollhypotesen\n",
    "std = stickprov.std(ddof=1) # beräkna standardavvikelsen för stickprovet\n",
    "n = len(stickprov) # beräkna storleken på stickprovet\n",
    "\n",
    "statstic = (xbar - mu) / (std / np.sqrt(n)) # Beräkna värdet på test-statistiskan\n",
    "print(\"Test statistic: \" +str(statstic)) # Printa test-statistikan\n",
    "\n",
    "p_value = 1 - t.cdf(x=statstic, df=n-1) # Beräkna p-värdet för stick provet som 1 - F(x=statistic)\n",
    "print('p-value: ' + str(2*p_value)) # Printa p-värdet (2x beräknat värde p.g.a. två-sidigt test.\n",
    "\n",
    "\n",
    "# You can reject H₀ at the significance level 0.05, because your p-value does not exceed 0.05.\n"
   ]
  },
  {
   "cell_type": "code",
   "execution_count": 13,
   "metadata": {},
   "outputs": [
    {
     "data": {
      "text/plain": [
       "3.418"
      ]
     },
     "execution_count": 13,
     "metadata": {},
     "output_type": "execute_result"
    }
   ],
   "source": [
    "# Stickprov för en viss specifik sort \"Iris-Setosa\"\n",
    "df[df[\"Blomtyp\"] == \"Iris-setosa\"][\"Foderbladsbredd\"].mean()"
   ]
  },
  {
   "attachments": {},
   "cell_type": "markdown",
   "metadata": {},
   "source": [
    "# Efter p-värde\n",
    "# Efter kritiskt \n",
    "\n",
    "\n",
    "# Plotta t fördelningen\n",
    "# plotta t-statistiskan"
   ]
  },
  {
   "attachments": {},
   "cell_type": "markdown",
   "metadata": {},
   "source": [
    "------------------\n",
    "\n",
    "# Det \n",
    "\n",
    "\n",
    "\n",
    "Med en signifikansnivå på \n",
    "### $\\alpha = 0.05$.\n",
    "Och med avsevärt menar jag med mindre än 10%. \n",
    "\n",
    "Så vi formulerar vår alternativhypotes som:\n",
    "   ### $H_A: p < 10%$\n",
    "Och vår nollhypotes som:\n",
    "\n",
    "   ### $H_0: p > 10%$\n",
    "\n",
    "\n",
    "   H0 = Högre än 10%\n",
    "   H1 = Mindre än 10%\n",
    "\n",
    "sepal = foderbladsbredd"
   ]
  },
  {
   "cell_type": "code",
   "execution_count": 7,
   "metadata": {},
   "outputs": [
    {
     "data": {
      "image/png": "[encoded data removed]",
      "text/plain": [
       "<Figure size 500x300 with 1 Axes>"
      ]
     },
     "metadata": {},
     "output_type": "display_data"
    }
   ],
   "source": [
    "fig, ax = plt.subplots(figsize=(5, 3))\n",
    "sns.histplot(df, x=\"Foderbladsbredd\", bins=8)\n",
    "\n",
    "\n",
    "# Undersöker medelvärdet och medianen för Kronbladsbredden\n",
    "Kronbladsmedelvärde = (np.mean(df[\"Kronbladsbredd\"]),)\n",
    "Kronbladsmedian = (df[\"Kronbladsbredd\"])\n",
    "plt.plot(\n",
    "    [Kronbladsmedelvärde, Kronbladsmedelvärde],\n",
    "    [0, 80],\n",
    "    color=\"green\",\n",
    "    linestyle=\"--\",\n",
    "    linewidth=1,\n",
    "    label=\"Medelvärde\",\n",
    ");\n",
    "\n",
    "leg = plt.legend(loc='upper left') # Rita legend för medelvärde och median i övre högra hörnet\n",
    "plt.show()"
   ]
  },
  {
   "attachments": {},
   "cell_type": "markdown",
   "metadata": {},
   "source": [
    "## Låt oss göra ett histogram över Kronbladsbredden för alla blomtyper i vårt dataset. "
   ]
  },
  {
   "attachments": {},
   "cell_type": "markdown",
   "metadata": {},
   "source": [
    "\n"
   ]
  },
  {
   "cell_type": "markdown",
   "metadata": {},
   "source": [
    "\n",
    "# Linjär regression\n",
    "-  Om man kan avgöra bara på Kronbladsbredden om man kan säga något om längden för bladen. \n",
    "- Man kan ta hänsyn till att hypotestestet endast testar bredd. När man kanske egentligen kan säga ngt OM både längd och bredd. Men i detta fall så gäller bredd."
   ]
  }
 ],
 "metadata": {
  "kernelspec": {
   "display_name": "Statistics-MucCggH2",
   "language": "python",
   "name": "python3"
  },
  "language_info": {
   "codemirror_mode": {
    "name": "ipython",
    "version": 3
   },
   "file_extension": ".py",
   "mimetype": "text/x-python",
   "name": "python",
   "nbconvert_exporter": "python",
   "pygments_lexer": "ipython3",
   "version": "3.9.13"
  },
  "orig_nbformat": 4,
  "vscode": {
   "interpreter": {
    "hash": "686851cae55af2357a567375cb6ce530efd8fbdf2576e2cc8c6549faabefb677"
   }
  }
 },
 "nbformat": 4,
 "nbformat_minor": 2
}
